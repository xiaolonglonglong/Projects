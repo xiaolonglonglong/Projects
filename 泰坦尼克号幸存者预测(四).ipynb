{
 "cells": [
  {
   "cell_type": "code",
   "execution_count": null,
   "metadata": {
    "collapsed": true
   },
   "outputs": [],
   "source": [
    "import pandas as pd\n",
    "import numpy as np\n",
    "from pandas import Series,DataFrame\n",
    "df = pd.read_csv('C:/Users/xlong/machinelearning/train.csv')\n",
    "df = df.drop(['Name', 'Ticket', 'Cabin'], axis=1)\n",
    "age_mean = df['Age'].mean()\n",
    "df['Age'] = df['Age'].fillna(age_mean)\n",
    "from scipy.stats import mode\n",
    "new_Embarked = df['Embarked'] #这个地方要注意 求众数的时候 NaN会报错,所以要除去NaN 然后在求众数\n",
    "mode_Embarked = mode(new_Embarked.dropna())#得到的是一个数组 属于moderesult类型\n",
    "print(mode_Embarked[0][0]) #得到众数\n",
    "df['Embarked'] = df['Embarked'].fillna(mode_Embarked[0][0])\n",
    "df['Gender'] = df['Sex'].map({'female': 0, 'male': 1}).astype(int)\n",
    "pd.get_dummies(df['Embarked'], prefix='Embarked').head(10)\n",
    "df = pd.concat([df, pd.get_dummies(df['Embarked'], prefix='Embarked')], axis=1)\n",
    "df = df.drop(['Sex', 'Embarked'], axis=1)\n",
    "cols = df.columns.tolist()\n",
    "cols = [cols[1]] + cols[0:1] + cols[2:]\n",
    "df = df[cols]\n",
    "train_data = df.values\n",
    "from sklearn.ensemble import RandomForestClassifier\n",
    "from sklearn.grid_search import GridSearchCV\n",
    "parameter_grid = {\n",
    "    'max_features': [0.5, 1],\n",
    "    'max_depth': [5, None]\n",
    "}\n",
    "grid_search = GridSearchCV(RandomForestClassifier(n_estimators = 100), parameter_grid,\n",
    "                            cv=5, verbose=3)\n",
    "grid_search.fit(train_data[0:,2:], train_data[0:,0])\n",
    "grid_search.grid_scores_\n",
    "sorted(grid_search.grid_scores_, key=lambda x: x.mean_validation_score)\n",
    "grid_search.best_score_\n",
    "grid_search.best_params_\n",
    "model = RandomForestClassifier(n_estimators = 100, max_features=0.5, max_depth=5.0)\n",
    "model = model.fit(train_data[0:,2:],train_data[0:,0])\n",
    "df_test = pd.read_csv('C:/Users/xlong/machinelearning/test.csv')\n",
    "df_test = df_test.drop(['Name', 'Ticket', 'Cabin'], axis=1\n",
    "df_test['Age'] = df_test['Age'].fillna(age_mean)\n",
    "fare_means = df.pivot_table('Fare', index='Pclass')\n",
    "fill_Fare = df_test['Pclass'][np.where(np.isnan(df_test['Fare'].values))[0][0]]#利用np.where找出nan的索引 求出Pclass的值 所对应的平均值\n",
    "df_test['Fare'] = df_test['Fare'].fillna(fare_means['Fare'][fill_Fare])\n",
    "df_test['Gender'] = df_test['Sex'].map({'female': 0, 'male': 1}).astype(int)\n",
    "df_test = pd.concat([df_test, pd.get_dummies(df_test['Embarked'], prefix='Embarked')],\n",
    "                axis=1)\n",
    "df_test = df_test.drop(['Sex', 'Embarked'], axis=1)\n",
    "test_data = df_test.values\n",
    "output = model.predict(test_data[:,1:])\n",
    "result = np.c_[test_data[:,0].astype(int), output.astype(int)]\n",
    "df_result = pd.DataFrame(result[:,0:2], columns=['PassengerId', 'Survived'])\n",
    "df_result.to_csv('C:/Users/xlong/machinelearning/titanic_1-3.csv', index=False)\n"
   ]
  },
  {
   "cell_type": "code",
   "execution_count": null,
   "metadata": {
    "collapsed": true
   },
   "outputs": [],
   "source": []
  }
 ],
 "metadata": {
  "kernelspec": {
   "display_name": "Python 3",
   "language": "python",
   "name": "python3"
  },
  "language_info": {
   "codemirror_mode": {
    "name": "ipython",
    "version": 3
   },
   "file_extension": ".py",
   "mimetype": "text/x-python",
   "name": "python",
   "nbconvert_exporter": "python",
   "pygments_lexer": "ipython3",
   "version": "3.6.3"
  }
 },
 "nbformat": 4,
 "nbformat_minor": 2
}
