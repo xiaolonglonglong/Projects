{
 "cells": [
  {
   "cell_type": "code",
   "execution_count": 3,
   "metadata": {
    "scrolled": true
   },
   "outputs": [
    {
     "name": "stderr",
     "output_type": "stream",
     "text": [
      "C:\\Users\\xlong\\Anaconda3\\lib\\site-packages\\scipy\\stats\\stats.py:245: RuntimeWarning: The input array could not be properly checked for nan values. nan values will be ignored.\n",
      "  \"values. nan values will be ignored.\", RuntimeWarning)\n"
     ]
    },
    {
     "name": "stdout",
     "output_type": "stream",
     "text": [
      "S\n"
     ]
    },
    {
     "data": {
      "text/html": [
       "<div>\n",
       "<style scoped>\n",
       "    .dataframe tbody tr th:only-of-type {\n",
       "        vertical-align: middle;\n",
       "    }\n",
       "\n",
       "    .dataframe tbody tr th {\n",
       "        vertical-align: top;\n",
       "    }\n",
       "\n",
       "    .dataframe thead th {\n",
       "        text-align: right;\n",
       "    }\n",
       "</style>\n",
       "<table border=\"1\" class=\"dataframe\">\n",
       "  <thead>\n",
       "    <tr style=\"text-align: right;\">\n",
       "      <th></th>\n",
       "      <th>PassengerId</th>\n",
       "      <th>Survived</th>\n",
       "    </tr>\n",
       "  </thead>\n",
       "  <tbody>\n",
       "    <tr>\n",
       "      <th>0</th>\n",
       "      <td>892</td>\n",
       "      <td>0</td>\n",
       "    </tr>\n",
       "    <tr>\n",
       "      <th>1</th>\n",
       "      <td>893</td>\n",
       "      <td>0</td>\n",
       "    </tr>\n",
       "    <tr>\n",
       "      <th>2</th>\n",
       "      <td>894</td>\n",
       "      <td>0</td>\n",
       "    </tr>\n",
       "    <tr>\n",
       "      <th>3</th>\n",
       "      <td>895</td>\n",
       "      <td>1</td>\n",
       "    </tr>\n",
       "    <tr>\n",
       "      <th>4</th>\n",
       "      <td>896</td>\n",
       "      <td>1</td>\n",
       "    </tr>\n",
       "  </tbody>\n",
       "</table>\n",
       "</div>"
      ],
      "text/plain": [
       "   PassengerId  Survived\n",
       "0          892         0\n",
       "1          893         0\n",
       "2          894         0\n",
       "3          895         1\n",
       "4          896         1"
      ]
     },
     "execution_count": 3,
     "metadata": {},
     "output_type": "execute_result"
    }
   ],
   "source": [
    "import pandas as pd\n",
    "import numpy as np\n",
    "from pandas import Series,DataFrame\n",
    "df = pd.read_csv('C:/Users/xlong/machinelearning/train.csv')\n",
    "df = df.drop(['Name', 'Ticket', 'Cabin'], axis=1)\n",
    "age_mean = df['Age'].mean() #求年龄的平均数\n",
    "df['Age'] = df['Age'].fillna(age_mean) \n",
    "from scipy.stats import mode\n",
    "new_Embarked = df['Embarked'] #这个地方要注意 求众数的时候 NaN会报错,所以要除去NaN 然后在求众数\n",
    "mode_Embarked = mode(new_Embarked.dropna())#得到的是一个数组 属于moderesult类型\n",
    "print(mode_Embarked[0][0]) #得到众数\n",
    "df['Embarked'] = df['Embarked'].fillna(mode_Embarked[0][0])\n",
    "df['Gender'] = df['Sex'].map({'female': 0, 'male': 1}).astype(int)\n",
    "df = pd.concat([df, pd.get_dummies(df['Embarked'], prefix='Embarked')], axis=1) #get_dummies 离散特征的取值之间没有太多的联系 连接表格\n",
    "df = df.drop(['Sex', 'Embarked'], axis=1)\n",
    "cols = df.columns.tolist()\n",
    "cols = [cols[1]] + cols[0:1] + cols[2:]\n",
    "df = df[cols]\n",
    "train_data = df.values\n",
    "from sklearn.ensemble import RandomForestClassifier #随机森林模型\n",
    "model = RandomForestClassifier(n_estimators = 100)\n",
    "model = model.fit(train_data[0:,2:],train_data[0:,0])\n",
    "df_test = pd.read_csv('C:/Users/xlong/machinelearning/test.csv')\n",
    "df_test = df_test.drop(['Name', 'Ticket', 'Cabin'], axis=1)\n",
    "df_test['Age'] = df_test['Age'].fillna(age_mean)\n",
    "fare_means = df.pivot_table('Fare', index='Pclass')\n",
    "fill_Fare = df_test['Pclass'][np.where(np.isnan(df_test['Fare'].values))[0][0]]#利用np.where找出nan的索引 求出Pclass的值 所对应的平均值\n",
    "df_test['Fare'] = df_test['Fare'].fillna(fare_means['Fare'][fill_Fare])\n",
    "df_test['Gender'] = df_test['Sex'].map({'female': 0, 'male': 1}).astype(int)\n",
    "df_test = pd.concat([df_test, pd.get_dummies(df_test['Embarked'], prefix='Embarked')],axis=1)\n",
    "df_test = df_test.drop(['Sex', 'Embarked'], axis=1)\n",
    "test_data = df_test.values\n",
    "output = model.predict(test_data[:,1:])\n",
    "result = np.c_[test_data[:,0].astype(int), output.astype(int)]\n",
    "df_result = pd.DataFrame(result[:,0:2], columns=['PassengerId', 'Survived'])\n",
    "df_result.to_csv('C:/Users/xlong/machinelearning/titanic_1-2.csv', index=False)\n",
    "df_result.head()\n",
    "#它的意思是 你的里面的数据 c s v 都是没有意义的 索性就将值转换为 列索引 来重新处理 其结果与(二)一样! 肯定一样吧"
   ]
  },
  {
   "cell_type": "code",
   "execution_count": null,
   "metadata": {
    "collapsed": true
   },
   "outputs": [],
   "source": []
  }
 ],
 "metadata": {
  "kernelspec": {
   "display_name": "Python 3",
   "language": "python",
   "name": "python3"
  },
  "language_info": {
   "codemirror_mode": {
    "name": "ipython",
    "version": 3
   },
   "file_extension": ".py",
   "mimetype": "text/x-python",
   "name": "python",
   "nbconvert_exporter": "python",
   "pygments_lexer": "ipython3",
   "version": "3.6.3"
  }
 },
 "nbformat": 4,
 "nbformat_minor": 2
}
